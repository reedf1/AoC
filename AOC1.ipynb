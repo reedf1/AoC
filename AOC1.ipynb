{
 "cells": [
  {
   "cell_type": "code",
   "execution_count": 16,
   "metadata": {},
   "outputs": [],
   "source": [
    "# Advent of Code Day 1!\n",
    "# By Reed Roberts\n",
    "# December 1st 2020\n",
    "\n",
    "input_file_path = \"input/input1.txt\";\n",
    "\n",
    "input_file = open(input_file_path, \"r\");\n",
    "\n",
    "number_list = [];\n",
    "\n",
    "for line in input_file:\n",
    "    number_list.append(int(line.rstrip()));\n"
   ]
  },
  {
   "cell_type": "code",
   "execution_count": 24,
   "metadata": {},
   "outputs": [
    {
     "name": "stdout",
     "output_type": "stream",
     "text": [
      "287503934\n",
      "287503934\n",
      "287503934\n",
      "287503934\n",
      "287503934\n",
      "287503934\n"
     ]
    }
   ],
   "source": [
    "for number in number_list:\n",
    "    for number_2 in number_list:\n",
    "        for number_3 in number_list:\n",
    "            if (number + number_2 + number_3 == 2020):\n",
    "                print(number*number_2*number_3);\n",
    "        \n",
    "    "
   ]
  },
  {
   "cell_type": "code",
   "execution_count": null,
   "metadata": {},
   "outputs": [],
   "source": []
  }
 ],
 "metadata": {
  "kernelspec": {
   "display_name": "Python 3",
   "language": "python",
   "name": "python3"
  },
  "language_info": {
   "codemirror_mode": {
    "name": "ipython",
    "version": 3
   },
   "file_extension": ".py",
   "mimetype": "text/x-python",
   "name": "python",
   "nbconvert_exporter": "python",
   "pygments_lexer": "ipython3",
   "version": "3.8.3"
  }
 },
 "nbformat": 4,
 "nbformat_minor": 4
}
