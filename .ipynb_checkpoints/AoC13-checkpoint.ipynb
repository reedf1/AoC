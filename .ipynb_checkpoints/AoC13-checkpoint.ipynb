{
 "cells": [
  {
   "cell_type": "code",
   "execution_count": 134,
   "metadata": {},
   "outputs": [
    {
     "name": "stdout",
     "output_type": "stream",
     "text": [
      "['1000391', '19,x,x,x,x,x,x,x,x,x,x,x,x,37,x,x,x,x,x,383,x,x,x,x,x,x,x,23,x,x,x,x,13,x,x,x,x,x,x,x,x,x,x,x,x,x,x,x,29,x,457,x,x,x,x,x,x,x,x,x,41,x,x,x,x,x,x,17']\n"
     ]
    }
   ],
   "source": [
    "# Advent of Code Day 13!\n",
    "# By Reed Roberts\n",
    "# December 13th 2020\n",
    "\n",
    "input_file_path = \"input/input13.txt\";\n",
    "\n",
    "input_file = open(input_file_path, \"r\");\n",
    "\n",
    "formatted_list = [];\n",
    "\n",
    "for line in input_file:\n",
    "    formatted_list.append(line.rstrip());\n",
    "    \n",
    "print(formatted_list);"
   ]
  },
  {
   "cell_type": "code",
   "execution_count": 135,
   "metadata": {
    "scrolled": false
   },
   "outputs": [
    {
     "name": "stdout",
     "output_type": "stream",
     "text": [
      "(1000396, 383)\n",
      "1915\n"
     ]
    }
   ],
   "source": [
    "timestamp = int(formatted_list[0]);\n",
    "bus_list = [int(bus) for bus in formatted_list[1].split(',') if bus.isdigit()];\n",
    "\n",
    "next_bus_times = [];\n",
    "for bus in bus_list:\n",
    "    nominal_wait = timestamp // bus;\n",
    "    next_bus_times.append(((nominal_wait * bus + bus),bus));\n",
    "\n",
    "print(min(next_bus_times))\n",
    "print(383*5)"
   ]
  },
  {
   "cell_type": "code",
   "execution_count": null,
   "metadata": {},
   "outputs": [],
   "source": []
  },
  {
   "cell_type": "code",
   "execution_count": null,
   "metadata": {},
   "outputs": [],
   "source": []
  },
  {
   "cell_type": "code",
   "execution_count": 147,
   "metadata": {
    "scrolled": false
   },
   "outputs": [
    {
     "name": "stdout",
     "output_type": "stream",
     "text": [
      "[19, 0, 0, 0, 0, 0, 0, 0, 0, 0, 0, 0, 0, 37, 0, 0, 0, 0, 0, 383, 0, 0, 0, 0, 0, 0, 0, 23, 0, 0, 0, 0, 13, 0, 0, 0, 0, 0, 0, 0, 0, 0, 0, 0, 0, 0, 0, 0, 29, 0, 457, 0, 0, 0, 0, 0, 0, 0, 0, 0, 41, 0, 0, 0, 0, 0, 0, 17]\n",
      "209\n",
      "130967\n",
      "4977449\n",
      "23555630\n",
      "587093787\n",
      "946123615782\n",
      "31887347136769\n",
      "294354277694107\n"
     ]
    }
   ],
   "source": [
    "import math\n",
    "\n",
    "bus_list = [int(bus) for bus in formatted_list[1].replace('x','0').split(',')];\n",
    "test_bus_list = [67,0,7,59,61]\n",
    "#bus_list = test_bus_list;\n",
    "print(bus_list)\n",
    "\n",
    "\n",
    "step = bus_list[0];\n",
    "current_num = bus_list[0];\n",
    "for idx, bus in enumerate(bus_list[1:]):\n",
    "    loop_condition = True;\n",
    "    if (bus == 0):\n",
    "        continue;\n",
    "    while(loop_condition):\n",
    "        current_num += step;\n",
    "        \n",
    "        if(current_num % bus == (bus - (idx%bus) - 1)): #pure guess WOW\n",
    "            print(current_num)\n",
    "            step *= bus;\n",
    "            loop_condition = False;\n"
   ]
  },
  {
   "cell_type": "code",
   "execution_count": 123,
   "metadata": {},
   "outputs": [
    {
     "data": {
      "text/plain": [
       "12"
      ]
     },
     "execution_count": 123,
     "metadata": {},
     "output_type": "execute_result"
    }
   ],
   "source": []
  },
  {
   "cell_type": "code",
   "execution_count": null,
   "metadata": {},
   "outputs": [],
   "source": []
  }
 ],
 "metadata": {
  "kernelspec": {
   "display_name": "Python 3",
   "language": "python",
   "name": "python3"
  },
  "language_info": {
   "codemirror_mode": {
    "name": "ipython",
    "version": 3
   },
   "file_extension": ".py",
   "mimetype": "text/x-python",
   "name": "python",
   "nbconvert_exporter": "python",
   "pygments_lexer": "ipython3",
   "version": "3.9.1"
  }
 },
 "nbformat": 4,
 "nbformat_minor": 4
}
