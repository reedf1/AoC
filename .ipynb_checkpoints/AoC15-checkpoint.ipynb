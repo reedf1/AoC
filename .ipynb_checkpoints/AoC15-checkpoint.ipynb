{
 "cells": [
  {
   "cell_type": "code",
   "execution_count": 33,
   "metadata": {},
   "outputs": [
    {
     "name": "stdout",
     "output_type": "stream",
     "text": [
      "16671510\n"
     ]
    }
   ],
   "source": [
    "# Advent of Code Day 15!\n",
    "# By Reed Roberts\n",
    "# December 15th 2020\n",
    "\n",
    "input_string = '16,1,0,18,12,14,19';\n",
    "\n",
    "number_list = [int(number) for number in input_string.split(',')]\n",
    "\n",
    "memory = {};\n",
    "\n",
    "for idx,number in enumerate(number_list,1):\n",
    "    if memory.get(number) == None:\n",
    "        memory[number] = [idx]\n",
    "    else:\n",
    "        memory[number].append(idx);\n",
    "\n",
    "previous_number = number_list[-1];\n",
    "for idx in range(len(number_list) + 1,30000001):\n",
    "    last_index_list = memory[previous_number];\n",
    "    if len(last_index_list) == 1:\n",
    "        current_number = 0;\n",
    "    else:\n",
    "        current_number = last_index_list[-1] - last_index_list[-2];\n",
    "    \n",
    "    if memory.get(current_number) == None:\n",
    "        memory[current_number] = [idx]\n",
    "    else:\n",
    "        memory[current_number].append(idx);\n",
    "\n",
    "    previous_number = current_number;\n",
    "    \n",
    "print(previous_number)"
   ]
  },
  {
   "cell_type": "code",
   "execution_count": null,
   "metadata": {
    "scrolled": false
   },
   "outputs": [],
   "source": []
  },
  {
   "cell_type": "code",
   "execution_count": null,
   "metadata": {},
   "outputs": [],
   "source": []
  },
  {
   "cell_type": "code",
   "execution_count": null,
   "metadata": {},
   "outputs": [],
   "source": []
  },
  {
   "cell_type": "code",
   "execution_count": null,
   "metadata": {
    "scrolled": false
   },
   "outputs": [],
   "source": []
  },
  {
   "cell_type": "code",
   "execution_count": null,
   "metadata": {},
   "outputs": [],
   "source": []
  },
  {
   "cell_type": "code",
   "execution_count": null,
   "metadata": {},
   "outputs": [],
   "source": []
  }
 ],
 "metadata": {
  "kernelspec": {
   "display_name": "Python 3",
   "language": "python",
   "name": "python3"
  },
  "language_info": {
   "codemirror_mode": {
    "name": "ipython",
    "version": 3
   },
   "file_extension": ".py",
   "mimetype": "text/x-python",
   "name": "python",
   "nbconvert_exporter": "python",
   "pygments_lexer": "ipython3",
   "version": "3.8.5"
  }
 },
 "nbformat": 4,
 "nbformat_minor": 4
}
