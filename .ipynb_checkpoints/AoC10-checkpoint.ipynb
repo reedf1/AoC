{
 "cells": [
  {
   "cell_type": "code",
   "execution_count": 41,
   "metadata": {},
   "outputs": [
    {
     "name": "stdout",
     "output_type": "stream",
     "text": [
      "['160', '34', '123', '159', '148', '93', '165', '56', '179', '103', '171', '44', '110', '170', '147', '98', '25', '37', '137', '71', '5', '6', '121', '28', '19', '134', '18', '7', '66', '90', '88', '181', '89', '41', '156', '46', '8', '61', '124', '9', '161', '72', '13', '172', '111', '59', '105', '51', '109', '27', '152', '117', '52', '68', '95', '164', '116', '75', '78', '180', '81', '47', '104', '12', '133', '175', '16', '149', '135', '99', '112', '38', '67', '53', '153', '2', '136', '113', '17', '145', '106', '31', '45', '169', '146', '168', '26', '36', '118', '62', '65', '142', '130', '1', '140', '84', '94', '141', '122', '22', '48', '102', '60', '178', '127', '73', '74', '87', '182', '35']\n"
     ]
    }
   ],
   "source": [
    "# Advent of Code Day 10!\n",
    "# By Reed Roberts\n",
    "# December 10th 2020\n",
    "\n",
    "input_file_path = \"input/input10.txt\";\n",
    "\n",
    "input_file = open(input_file_path, \"r\");\n",
    "\n",
    "formatted_list = [];\n",
    "\n",
    "for line in input_file:\n",
    "    formatted_list.append(line.rstrip());\n",
    "    \n",
    "print(formatted_list);\n"
   ]
  },
  {
   "cell_type": "code",
   "execution_count": 42,
   "metadata": {
    "scrolled": false
   },
   "outputs": [
    {
     "name": "stdout",
     "output_type": "stream",
     "text": [
      "74\n",
      "37\n",
      "2738\n"
     ]
    }
   ],
   "source": [
    "from tqdm import tqdm\n",
    "\n",
    "puzzle_answer = 0;\n",
    "\n",
    "input_list = formatted_list;\n",
    "\n",
    "input_list = [];\n",
    "for item in formatted_list:\n",
    "    input_list.append(int(item));\n",
    "\n",
    "last_value = 0;\n",
    "list_of_jolt_differences = [];\n",
    "for idx in range(len(input_list)):\n",
    "    min_value = min(input_list);\n",
    "    input_list.remove(min_value);\n",
    "    \n",
    "    difference = min_value - last_value;\n",
    "    list_of_jolt_differences.append(difference);\n",
    "    \n",
    "    last_value = min_value;\n",
    "    idx +=1\n",
    "list_of_jolt_differences.append(3);\n"
   ]
  },
  {
   "cell_type": "code",
   "execution_count": 43,
   "metadata": {
    "scrolled": false
   },
   "outputs": [
    {
     "name": "stdout",
     "output_type": "stream",
     "text": [
      "[1, 1, 3, 1, 1, 1, 1, 3, 1, 3, 1, 1, 1, 3, 3, 1, 1, 1, 3, 3, 1, 1, 1, 1, 3, 3, 1, 1, 1, 1, 3, 1, 1, 3, 3, 1, 1, 1, 3, 1, 1, 1, 3, 1, 1, 1, 1, 3, 3, 3, 3, 1, 1, 1, 3, 1, 1, 3, 1, 3, 1, 1, 1, 1, 3, 1, 1, 1, 1, 3, 1, 1, 3, 1, 1, 1, 3, 3, 3, 1, 1, 1, 1, 3, 1, 1, 3, 1, 1, 1, 1, 3, 1, 3, 3, 1, 1, 3, 1, 3, 1, 1, 1, 1, 3, 3, 1, 1, 1, 1, 3]\n",
      "2\n",
      "4\n",
      "3\n",
      "3\n",
      "4\n",
      "4\n",
      "2\n",
      "3\n",
      "3\n",
      "4\n",
      "3\n",
      "2\n",
      "4\n",
      "4\n",
      "2\n",
      "3\n",
      "4\n",
      "2\n",
      "4\n",
      "2\n",
      "4\n",
      "4\n",
      "74049191673856\n"
     ]
    }
   ],
   "source": [
    "magic_list = [0,0,2,4,7,14]; # math!\n",
    "\n",
    "print(list_of_jolt_differences)\n",
    "\n",
    "possibilities = 1;\n",
    "difference_of_one = 0;\n",
    "for jolt_difference in list_of_jolt_differences:\n",
    "    if (jolt_difference == 1):\n",
    "        difference_of_one += 1;\n",
    "    elif(jolt_difference == 3):\n",
    "        if(difference_of_one not in [0,1]):\n",
    "            print(difference_of_one)\n",
    "            possibilities*= magic_list[difference_of_one];\n",
    "        difference_of_one = 0;\n",
    "    \n",
    "print(possibilities);\n",
    "    \n",
    "    \n",
    "    \n"
   ]
  },
  {
   "cell_type": "code",
   "execution_count": null,
   "metadata": {},
   "outputs": [],
   "source": []
  },
  {
   "cell_type": "code",
   "execution_count": null,
   "metadata": {},
   "outputs": [],
   "source": []
  }
 ],
 "metadata": {
  "kernelspec": {
   "display_name": "Python 3",
   "language": "python",
   "name": "python3"
  },
  "language_info": {
   "codemirror_mode": {
    "name": "ipython",
    "version": 3
   },
   "file_extension": ".py",
   "mimetype": "text/x-python",
   "name": "python",
   "nbconvert_exporter": "python",
   "pygments_lexer": "ipython3",
   "version": "3.8.3"
  }
 },
 "nbformat": 4,
 "nbformat_minor": 4
}
