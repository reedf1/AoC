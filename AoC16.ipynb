{
 "cells": [
  {
   "cell_type": "code",
   "execution_count": 42,
   "metadata": {},
   "outputs": [],
   "source": [
    "# Advent of Code Day 16!\n",
    "# By Reed Roberts\n",
    "# December 16th 2020\n",
    "\n",
    "input_file_path = \"input/input16.txt\";\n",
    "\n",
    "input_file = open(input_file_path, \"r\");\n",
    "\n",
    "file_string = input_file.read()\n",
    "\n",
    "separated_file_string = file_string.split('\\n\\n');\n",
    "\n",
    "ticket_rules = separated_file_string[0].split('\\n')\n",
    "your_ticket = separated_file_string[1].split('\\n')[1:]\n",
    "nearby_tickets = separated_file_string[2].split('\\n')[1:-1]"
   ]
  },
  {
   "cell_type": "code",
   "execution_count": 52,
   "metadata": {
    "scrolled": false
   },
   "outputs": [
    {
     "name": "stdout",
     "output_type": "stream",
     "text": [
      "21996\n"
     ]
    }
   ],
   "source": [
    "#list_rule_ranges = [];\n",
    "#for rule in ticket_rules:\n",
    "#    range_strings = rule.split(': ')[1]\n",
    "#    range_list = range_strings.split(' or ');\n",
    "#    \n",
    "#    for string in range_list:\n",
    "#        list_rule_ranges.append(string.split('-'))\n",
    "#        \n",
    "#error_rate = 0;\n",
    "#for ticket in nearby_tickets:\n",
    "#    for ticket_num in ticket.split(','):\n",
    "#        ticket_num_valid = False;\n",
    "#        for rule in list_rule_ranges:\n",
    "#            if(int(rule[0]) <= int(ticket_num) <= int(rule[1])):\n",
    "#                ticket_num_valid = True;\n",
    "#                \n",
    "#        if not ticket_num_valid:\n",
    "#            error_rate += int(ticket_num)\n",
    "#\n",
    "#print(error_rate)"
   ]
  },
  {
   "cell_type": "code",
   "execution_count": 150,
   "metadata": {
    "scrolled": true
   },
   "outputs": [
    {
     "name": "stdout",
     "output_type": "stream",
     "text": [
      "{'departure location': [19], 'departure station': [17], 'departure platform': [15], 'departure track': [2], 'departure date': [6], 'departure time': [16], 'arrival location': [0, 1, 8, 17], 'arrival station': [7], 'arrival platform': [11], 'arrival track': [0, 1, 5, 8, 14, 17], 'class': [4], 'duration': [10], 'price': [18], 'route': [0, 1, 3, 5, 8, 9, 13, 14, 17], 'row': [0, 8, 17], 'seat': [0, 1, 3, 5, 8, 9, 14, 17], 'train': [0, 17], 'type': [0, 1, 5, 8, 9, 14, 17], 'wagon': [12], 'zone': [0, 1, 8, 14, 17]}\n"
     ]
    }
   ],
   "source": [
    "list_rule_ranges = [];\n",
    "for rule in ticket_rules:\n",
    "    range_strings = rule.split(': ')[1]\n",
    "    range_list = range_strings.split(' or ');\n",
    "    \n",
    "    for string in range_list:\n",
    "        list_rule_ranges.append(string.split('-'))\n",
    "\n",
    "valid_tickets = [];\n",
    "for ticket in nearby_tickets:\n",
    "    valid_ticket = True;\n",
    "    for ticket_num in ticket.split(','):\n",
    "        ticket_num_valid = False;\n",
    "        for rule in list_rule_ranges:\n",
    "            if(int(rule[0]) <= int(ticket_num) <= int(rule[1])):\n",
    "                ticket_num_valid = True;\n",
    "                \n",
    "        if not ticket_num_valid:\n",
    "            valid_ticket = False;\n",
    "            break;\n",
    "    if valid_ticket:\n",
    "        valid_tickets.append(ticket);\n",
    "\n",
    "\n",
    "rule_dict = {}\n",
    "for rule in ticket_rules:\n",
    "    rule_name,range_strings = rule.split(': ')\n",
    "    \n",
    "    range_list = range_strings.split(' or ');\n",
    "    \n",
    "    rule_pair = [];\n",
    "    for string in range_list:\n",
    "        rule_pair.append(string.split('-'));\n",
    "    \n",
    "    rule_dict[rule_name] = rule_pair\n",
    "\n",
    "ticket_entry_dict = {};\n",
    "for rule in rule_dict:\n",
    "    numeric_rules = rule_dict[rule]\n",
    "    \n",
    "    valid_columns = [];\n",
    "    for idx in range(len(valid_tickets[0].split(','))):\n",
    "        rule_valid = True;\n",
    "        for ticket in valid_tickets:\n",
    "            ticket_num = ticket.split(',')[idx];\n",
    "            numeric_rule_valid = False;\n",
    "            for numeric_rule in numeric_rules:\n",
    "                if (int(numeric_rule[0]) <= int(ticket_num) <= int(numeric_rule[1])):\n",
    "                    numeric_rule_valid = True;\n",
    "\n",
    "            if numeric_rule_valid == False:\n",
    "                rule_valid = False;\n",
    "        \n",
    "        if rule_valid:\n",
    "            valid_columns.append(idx);\n",
    "            \n",
    "    ticket_entry_dict[rule] = valid_columns;\n",
    "\n",
    "\n",
    "def delete_column(ticket_entry_dict,column_to_remove):\n",
    "    for ticket_entry in ticket_entry_dict:\n",
    "        if len(ticket_entry_dict[ticket_entry]) != 1:\n",
    "            ticket_entry_dict[ticket_entry].remove(column_to_remove);\n",
    "    \n",
    "delete_column(ticket_entry_dict,11)\n",
    "delete_column(ticket_entry_dict,10)\n",
    "delete_column(ticket_entry_dict,7)\n",
    "delete_column(ticket_entry_dict,12)\n",
    "delete_column(ticket_entry_dict,18)\n",
    "delete_column(ticket_entry_dict,4)\n",
    "delete_column(ticket_entry_dict,16)\n",
    "delete_column(ticket_entry_dict,6)\n",
    "delete_column(ticket_entry_dict,19)\n",
    "delete_column(ticket_entry_dict,2)\n",
    "delete_column(ticket_entry_dict,15)\n",
    "print(ticket_entry_dict)\n",
    "#def filter_rule(ticket_entry_dict):\n",
    "#    new_ticket_entry_dict =[];\n",
    "#    for ticket_entry in ticket_entry_dict:\n",
    "#        if len(ticket_entry_dict[ticket_entry]) == 1:\n",
    "            \n",
    "            "
   ]
  },
  {
   "cell_type": "code",
   "execution_count": 151,
   "metadata": {},
   "outputs": [
    {
     "data": {
      "text/plain": [
       "650080463519"
      ]
     },
     "execution_count": 151,
     "metadata": {},
     "output_type": "execute_result"
    }
   ],
   "source": [
    "59*149*53*61*257*89"
   ]
  },
  {
   "cell_type": "code",
   "execution_count": null,
   "metadata": {
    "scrolled": false
   },
   "outputs": [],
   "source": []
  },
  {
   "cell_type": "code",
   "execution_count": null,
   "metadata": {},
   "outputs": [],
   "source": []
  },
  {
   "cell_type": "code",
   "execution_count": null,
   "metadata": {},
   "outputs": [],
   "source": []
  }
 ],
 "metadata": {
  "kernelspec": {
   "display_name": "Python 3",
   "language": "python",
   "name": "python3"
  },
  "language_info": {
   "codemirror_mode": {
    "name": "ipython",
    "version": 3
   },
   "file_extension": ".py",
   "mimetype": "text/x-python",
   "name": "python",
   "nbconvert_exporter": "python",
   "pygments_lexer": "ipython3",
   "version": "3.8.5"
  }
 },
 "nbformat": 4,
 "nbformat_minor": 4
}
